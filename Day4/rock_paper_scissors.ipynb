{
 "cells": [
  {
   "cell_type": "markdown",
   "metadata": {},
   "source": [
    "# Rock Paper Scissors"
   ]
  },
  {
   "cell_type": "code",
   "execution_count": 6,
   "metadata": {},
   "outputs": [],
   "source": [
    "import random"
   ]
  },
  {
   "cell_type": "code",
   "execution_count": 47,
   "metadata": {},
   "outputs": [],
   "source": [
    "# Rock\n",
    "rock = \"\"\"\n",
    "    _______\n",
    "---'   ____)\n",
    "      (_____)\n",
    "      (_____)\n",
    "      (____)\n",
    "---.__(___)\n",
    "\"\"\"\n",
    "\n",
    "# Paper\n",
    "paper = \"\"\"\n",
    "     _______\n",
    "---'    ____)____\n",
    "           ______)\n",
    "          _______)\n",
    "         _______)\n",
    "---.__________)\n",
    "\"\"\"\n",
    "\n",
    "# Scissors\n",
    "scissors = \"\"\"\n",
    "    _______\n",
    "---'   ____)____\n",
    "          ______)\n",
    "       __________)\n",
    "      (____)\n",
    "---.__(___)\n",
    "\"\"\"\n",
    "\n",
    "game_images = [rock, paper, scissors]"
   ]
  },
  {
   "cell_type": "code",
   "execution_count": 85,
   "metadata": {},
   "outputs": [
    {
     "name": "stdout",
     "output_type": "stream",
     "text": [
      "You chose\n",
      "     _______\n",
      "---'    ____)____\n",
      "           ______)\n",
      "          _______)\n",
      "         _______)\n",
      "---.__________)\n",
      "\n",
      "Computer chose \n",
      "    _______\n",
      "---'   ____)\n",
      "      (_____)\n",
      "      (_____)\n",
      "      (____)\n",
      "---.__(___)\n",
      "\n",
      "You win!\n"
     ]
    }
   ],
   "source": [
    "user_choice = int(input('What do you choose? Type 0 for Rock, 1 for Paper, or 2 for Scissors.'))\n",
    "computer_choice = random.randint(0,2)\n",
    "\n",
    "if user_choice >= 3 or user_choice < 0:\n",
    "    print('You chose an invalid number so you lose!')\n",
    "else:\n",
    "    print(f'You chose{game_images[user_choice]}\\nComputer chose {game_images[computer_choice]}')\n",
    "\n",
    "if user_choice == 0 and computer_choice == 2:\n",
    "    print('You win!')\n",
    "elif computer_choice == 0 and user_choice == 2:\n",
    "    print('You lose!')\n",
    "elif user_choice == 1 and computer_choice == 0:\n",
    "    print('You win!')\n",
    "elif user_choice == 2 and computer_choice == 1:\n",
    "    print('You win!')\n",
    "elif computer_choice > user_choice:\n",
    "    print('You lose!')\n",
    "elif user_choice == computer_choice:\n",
    "    print('It is a DRAW!!')"
   ]
  },
  {
   "cell_type": "code",
   "execution_count": 27,
   "metadata": {},
   "outputs": [],
   "source": []
  },
  {
   "cell_type": "code",
   "execution_count": null,
   "metadata": {},
   "outputs": [],
   "source": []
  }
 ],
 "metadata": {
  "interpreter": {
   "hash": "92dbd1e90201186197247ca54f8577451dcafe04c2da1af268ec5bb7166fb365"
  },
  "kernelspec": {
   "display_name": "Python 3.10.0 ('minimal_ds')",
   "language": "python",
   "name": "python3"
  },
  "language_info": {
   "codemirror_mode": {
    "name": "ipython",
    "version": 3
   },
   "file_extension": ".py",
   "mimetype": "text/x-python",
   "name": "python",
   "nbconvert_exporter": "python",
   "pygments_lexer": "ipython3",
   "version": "3.10.0"
  },
  "orig_nbformat": 4
 },
 "nbformat": 4,
 "nbformat_minor": 2
}
