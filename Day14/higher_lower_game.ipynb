{
 "cells": [
  {
   "cell_type": "markdown",
   "metadata": {},
   "source": [
    "# Higher Lower Game"
   ]
  },
  {
   "cell_type": "code",
   "execution_count": 71,
   "metadata": {},
   "outputs": [],
   "source": [
    "import random\n",
    "from game_data import data\n",
    "from art import logo, vs"
   ]
  },
  {
   "cell_type": "markdown",
   "metadata": {},
   "source": [
    "### Functions"
   ]
  },
  {
   "cell_type": "code",
   "execution_count": 73,
   "metadata": {},
   "outputs": [],
   "source": [
    "# Create funtion to format the account data to printable format\n",
    "def format_data(account):\n",
    "    '''Takes the account data and returns the printable format'''\n",
    "    account_name = account['name']\n",
    "    account_desc = account['description']\n",
    "    account_country = account['country']\n",
    "    account_following = account['follower_count']\n",
    "    return f'{account_name}, a {account_desc}, from {account_country}. {account_following}'\n",
    "\n",
    "def check_answer(guess, a_followers, b_followers):\n",
    "    '''Takes the user guess and follower counts and returns if they got it right'''\n",
    "    if a_followers > b_followers:\n",
    "        return guess == 'a'\n",
    "    else:\n",
    "        return guess == 'b'"
   ]
  },
  {
   "cell_type": "code",
   "execution_count": 99,
   "metadata": {},
   "outputs": [
    {
     "name": "stdout",
     "output_type": "stream",
     "text": [
      "\n",
      "    __  ___       __             \n",
      "   / / / (_)___ _/ /_  ___  _____\n",
      "  / /_/ / / __ `/ __ \\/ _ \\/ ___/\n",
      " / __  / / /_/ / / / /  __/ /    \n",
      "/_/ ///_/\\__, /_/ /_/\\___/_/     \n",
      "   / /  /____/_      _____  _____\n",
      "  / /   / __ \\ | /| / / _ \\/ ___/\n",
      " / /___/ /_/ / |/ |/ /  __/ /    \n",
      "/_____/\\____/|__/|__/\\___/_/     \n",
      "\n",
      "\n",
      "Compare: A: Kylie Jenner, a Reality TV personality and businesswoman and Self-Made Billionaire, from United States. 172\n",
      "\n",
      " _    __    \n",
      "| |  / /____\n",
      "| | / / ___/\n",
      "| |/ (__  ) \n",
      "|___/____(_)\n",
      "\n",
      "\n",
      "Against B: Priyanka Chopra Jonas, a Actress and musician, from India. 53\n",
      "\n",
      "\n",
      "You are correct! \n",
      "Current Score: 1\n",
      "Compare: A: Priyanka Chopra Jonas, a Actress and musician, from India. 53\n",
      "\n",
      " _    __    \n",
      "| |  / /____\n",
      "| | / / ___/\n",
      "| |/ (__  ) \n",
      "|___/____(_)\n",
      "\n",
      "\n",
      "Against B: Miley Cyrus, a Musician and actress, from United States. 107\n",
      "\n",
      "\n",
      "You are correct! \n",
      "Current Score: 2\n",
      "Compare: A: Miley Cyrus, a Musician and actress, from United States. 107\n",
      "\n",
      " _    __    \n",
      "| |  / /____\n",
      "| | / / ___/\n",
      "| |/ (__  ) \n",
      "|___/____(_)\n",
      "\n",
      "\n",
      "Against B: Cardi B, a Musician, from United States. 67\n",
      "\n",
      "\n",
      "You got it wrong, You SUCK!!!\n",
      "Your final score is 2...\n"
     ]
    }
   ],
   "source": [
    "# Display art\n",
    "print(f'{logo}\\n')\n",
    "score = 0\n",
    "game_should_continue = True\n",
    "account_b = random.choice(data)\n",
    "\n",
    "# Make the game repeatable\n",
    "while game_should_continue:\n",
    "\n",
    "    # Generate a random account from the game data\n",
    "    # Making account at position B move to position A\n",
    "    account_a = account_b\n",
    "    account_b = random.choice(data)\n",
    "    # Make sure accounts are not equal to one another and if so generate new account\n",
    "    while account_a == account_b:\n",
    "        account_b = random.choice(data)\n",
    "\n",
    "    # Format the account data into printable format\n",
    "    print(f'Compare: A: {format_data(account_a)}')\n",
    "    print(f'{vs}\\n')\n",
    "    print(f'Against B: {format_data(account_b)}')\n",
    "\n",
    "    # Ask user for a guess\n",
    "    guess = input('Who has more followers? Type \"A\" or \"B\": ').lower()\n",
    "\n",
    "    # Get follower count\n",
    "    a_follower_count = account_a['follower_count']\n",
    "    b_follower_count = account_b['follower_count']\n",
    "    is_correct = check_answer(guess, a_follower_count, b_follower_count)\n",
    "\n",
    "    # Give user feedback\n",
    "    # Score keeping.\n",
    "\n",
    "    if is_correct:\n",
    "        score += 1\n",
    "        print(f'\\n\\nYou are correct! \\nCurrent Score: {score}')\n",
    "    else:\n",
    "        game_should_continue = False\n",
    "        print('\\n\\nYou got it wrong, You SUCK!!!')\n",
    "        print(f'Your final score is {score}...')\n",
    "\n"
   ]
  },
  {
   "cell_type": "code",
   "execution_count": null,
   "metadata": {},
   "outputs": [],
   "source": []
  },
  {
   "cell_type": "code",
   "execution_count": null,
   "metadata": {},
   "outputs": [],
   "source": []
  },
  {
   "cell_type": "code",
   "execution_count": null,
   "metadata": {},
   "outputs": [],
   "source": []
  }
 ],
 "metadata": {
  "interpreter": {
   "hash": "92dbd1e90201186197247ca54f8577451dcafe04c2da1af268ec5bb7166fb365"
  },
  "kernelspec": {
   "display_name": "Python 3.10.0 ('minimal_ds')",
   "language": "python",
   "name": "python3"
  },
  "language_info": {
   "codemirror_mode": {
    "name": "ipython",
    "version": 3
   },
   "file_extension": ".py",
   "mimetype": "text/x-python",
   "name": "python",
   "nbconvert_exporter": "python",
   "pygments_lexer": "ipython3",
   "version": "3.10.0"
  },
  "orig_nbformat": 4
 },
 "nbformat": 4,
 "nbformat_minor": 2
}
