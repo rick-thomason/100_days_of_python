{
 "cells": [
  {
   "cell_type": "markdown",
   "metadata": {},
   "source": [
    "# Number Guessing Game"
   ]
  },
  {
   "cell_type": "code",
   "execution_count": 176,
   "metadata": {},
   "outputs": [],
   "source": [
    "import random\n",
    "\n",
    "EASY_LEVEL_LIVES = 10\n",
    "HARD_LEVEL_LIVES = 5"
   ]
  },
  {
   "cell_type": "code",
   "execution_count": 177,
   "metadata": {},
   "outputs": [
    {
     "data": {
      "text/plain": [
       "32"
      ]
     },
     "execution_count": 177,
     "metadata": {},
     "output_type": "execute_result"
    }
   ],
   "source": [
    "# create a random number to guess\n",
    "def create_random_number():\n",
    "    return random.randint(1,100)\n",
    "\n",
    "random_number = create_random_number()\n",
    "random_number"
   ]
  },
  {
   "cell_type": "code",
   "execution_count": 178,
   "metadata": {},
   "outputs": [],
   "source": [
    "# create a function to compare the user guess to the random number\n",
    "def check_random_number(user_guess, random_number, player_lives):\n",
    "    if user_guess > random_number:\n",
    "        print('Too High.')\n",
    "        return player_lives - 1\n",
    "    elif user_guess < random_number:\n",
    "        print('Too Low.')\n",
    "        return player_lives - 1\n",
    "    else:\n",
    "        print(f'Congrats you guessed correctly. The answer was {random_number}')"
   ]
  },
  {
   "cell_type": "code",
   "execution_count": 181,
   "metadata": {},
   "outputs": [
    {
     "name": "stdout",
     "output_type": "stream",
     "text": [
      "You have selected Hard difficulty so you get 5 lives.\n"
     ]
    }
   ],
   "source": [
    "# create function to ask the user whether they would like to play easy or hard mode\n",
    "def set_difficulty():\n",
    "\n",
    "    difficulty = input('Would you like to play \"easy\" or \"hard\" mode?').lower()\n",
    "\n",
    "    # give player 10 lives if they select easy mode or 5 lives if they select hard mode\n",
    "    if difficulty == 'easy':\n",
    "        print(f'You have selected {difficulty.title()} difficulty so you get {EASY_LEVEL_LIVES} lives.')\n",
    "        return EASY_LEVEL_LIVES\n",
    "    else:\n",
    "        print(f'You have selected {difficulty.title()} difficulty so you get {HARD_LEVEL_LIVES} lives.')\n",
    "        return HARD_LEVEL_LIVES\n",
    "\n",
    "\n",
    "player_lives = set_difficulty()\n"
   ]
  },
  {
   "cell_type": "code",
   "execution_count": 182,
   "metadata": {},
   "outputs": [
    {
     "name": "stdout",
     "output_type": "stream",
     "text": [
      "Too High.\n",
      "You have 4 lives remaining.\n",
      "Guess again.\n",
      "Too High.\n",
      "You have 3 lives remaining.\n",
      "Guess again.\n",
      "Too Low.\n",
      "You have 2 lives remaining.\n",
      "Guess again.\n",
      "Too Low.\n",
      "You have 1 lives remaining.\n",
      "Guess again.\n",
      "Too Low.\n",
      "You have 0 lives remaining.\n",
      "Game Over!!! You ran out of lives.\n"
     ]
    }
   ],
   "source": [
    "is_game_over = False\n",
    "user_guess = 0\n",
    "\n",
    "while user_guess != random_number and not is_game_over:\n",
    "# ask the player to select a number 1 - 100\n",
    "    user_guess = int(input('Choose A Number 1 - 100'))\n",
    "    player_lives = check_random_number(user_guess, random_number, player_lives)\n",
    "\n",
    "    if user_guess == random_number:\n",
    "        print('You win.')\n",
    "    else:\n",
    "        print(f'You have {player_lives} lives remaining.')\n",
    "\n",
    "    if player_lives == 0:\n",
    "        is_game_over = True\n",
    "        print('Game Over!!! You ran out of lives.')\n",
    "    elif user_guess != random_number:\n",
    "        print('Guess again.')\n",
    "    \n",
    "    "
   ]
  },
  {
   "cell_type": "code",
   "execution_count": null,
   "metadata": {},
   "outputs": [],
   "source": []
  }
 ],
 "metadata": {
  "interpreter": {
   "hash": "92dbd1e90201186197247ca54f8577451dcafe04c2da1af268ec5bb7166fb365"
  },
  "kernelspec": {
   "display_name": "Python 3.10.0 ('minimal_ds')",
   "language": "python",
   "name": "python3"
  },
  "language_info": {
   "codemirror_mode": {
    "name": "ipython",
    "version": 3
   },
   "file_extension": ".py",
   "mimetype": "text/x-python",
   "name": "python",
   "nbconvert_exporter": "python",
   "pygments_lexer": "ipython3",
   "version": "3.10.0"
  },
  "orig_nbformat": 4
 },
 "nbformat": 4,
 "nbformat_minor": 2
}
