{
 "cells": [
  {
   "cell_type": "markdown",
   "metadata": {},
   "source": [
    "# Hangman"
   ]
  },
  {
   "cell_type": "code",
   "execution_count": 194,
   "metadata": {},
   "outputs": [],
   "source": [
    "import random\n",
    "from hangman_art import stages\n",
    "from hangman_words import word_list"
   ]
  },
  {
   "cell_type": "code",
   "execution_count": 201,
   "metadata": {},
   "outputs": [
    {
     "data": {
      "text/plain": [
       "'wellspring'"
      ]
     },
     "execution_count": 201,
     "metadata": {},
     "output_type": "execute_result"
    }
   ],
   "source": [
    "# Generate random word\n",
    "chosen_word = random.choice(word_list)\n",
    "word_length = len(chosen_word)\n",
    "\n",
    "chosen_word"
   ]
  },
  {
   "cell_type": "code",
   "execution_count": 202,
   "metadata": {},
   "outputs": [
    {
     "data": {
      "text/plain": [
       "['_', '_', '_', '_', '_', '_', '_', '_', '_', '_']"
      ]
     },
     "execution_count": 202,
     "metadata": {},
     "output_type": "execute_result"
    }
   ],
   "source": [
    "display = []\n",
    "for letter in chosen_word:\n",
    "    display.append('_')\n",
    "\n",
    "display"
   ]
  },
  {
   "cell_type": "code",
   "execution_count": 203,
   "metadata": {},
   "outputs": [],
   "source": [
    "# Ask player to guess a letter in the chosen word\n",
    "# guess = input('Guess a letter: ').lower()\n",
    "# guess"
   ]
  },
  {
   "cell_type": "code",
   "execution_count": 204,
   "metadata": {},
   "outputs": [],
   "source": [
    "# checking to see if letter is in chosen word\n",
    "# for letter in chosen_word:\n",
    "#     if letter == guess:\n",
    "#         print('correct')\n",
    "#     else:\n",
    "#         print('wrong')"
   ]
  },
  {
   "cell_type": "code",
   "execution_count": 205,
   "metadata": {},
   "outputs": [
    {
     "name": "stdout",
     "output_type": "stream",
     "text": [
      "['_', 'e', '_', '_', '_', '_', '_', '_', '_', '_']\n",
      "\n",
      "  +---+\n",
      "  |   |\n",
      "      |\n",
      "      |\n",
      "      |\n",
      "      |\n",
      "=========\n",
      "\n",
      "['_', 'e', 'l', 'l', '_', '_', '_', '_', '_', '_']\n",
      "\n",
      "  +---+\n",
      "  |   |\n",
      "      |\n",
      "      |\n",
      "      |\n",
      "      |\n",
      "=========\n",
      "\n",
      "['_', 'e', 'l', 'l', 's', '_', '_', '_', '_', '_']\n",
      "\n",
      "  +---+\n",
      "  |   |\n",
      "      |\n",
      "      |\n",
      "      |\n",
      "      |\n",
      "=========\n",
      "\n",
      "['_', 'e', 'l', 'l', 's', '_', 'r', '_', '_', '_']\n",
      "\n",
      "  +---+\n",
      "  |   |\n",
      "      |\n",
      "      |\n",
      "      |\n",
      "      |\n",
      "=========\n",
      "\n",
      "['_', 'e', 'l', 'l', 's', '_', 'r', '_', '_', '_']\n",
      "Lives left: 5\n",
      "\n",
      "  +---+\n",
      "  |   |\n",
      "  O   |\n",
      "      |\n",
      "      |\n",
      "      |\n",
      "=========\n",
      "\n",
      "['_', 'e', 'l', 'l', 's', '_', 'r', '_', '_', '_']\n",
      "Lives left: 4\n",
      "\n",
      "  +---+\n",
      "  |   |\n",
      "  O   |\n",
      "  |   |\n",
      "      |\n",
      "      |\n",
      "=========\n",
      "\n",
      "['_', 'e', 'l', 'l', 's', '_', 'r', '_', '_', '_']\n",
      "Lives left: 3\n",
      "\n",
      "  +---+\n",
      "  |   |\n",
      "  O   |\n",
      " /|   |\n",
      "      |\n",
      "      |\n",
      "=========\n",
      "['w', 'e', 'l', 'l', 's', '_', 'r', '_', '_', '_']\n",
      "\n",
      "  +---+\n",
      "  |   |\n",
      "  O   |\n",
      " /|   |\n",
      "      |\n",
      "      |\n",
      "=========\n",
      "['w', 'e', 'l', 'l', 's', '_', 'r', '_', '_', '_']\n",
      "\n",
      "  +---+\n",
      "  |   |\n",
      "  O   |\n",
      " /|   |\n",
      "      |\n",
      "      |\n",
      "=========\n",
      "['w', 'e', 'l', 'l', 's', '_', 'r', '_', '_', '_']\n",
      "\n",
      "  +---+\n",
      "  |   |\n",
      "  O   |\n",
      " /|   |\n",
      "      |\n",
      "      |\n",
      "=========\n",
      "['w', 'e', 'l', 'l', 's', '_', 'r', '_', '_', '_']\n",
      "Lives left: 2\n",
      "\n",
      "  +---+\n",
      "  |   |\n",
      "  O   |\n",
      " /|\\  |\n",
      "      |\n",
      "      |\n",
      "=========\n",
      "\n",
      "['w', 'e', 'l', 'l', 's', '_', 'r', '_', '_', '_']\n",
      "Lives left: 1\n",
      "\n",
      "  +---+\n",
      "  |   |\n",
      "  O   |\n",
      " /|\\  |\n",
      " /    |\n",
      "      |\n",
      "=========\n",
      "\n",
      "['w', 'e', 'l', 'l', 's', 'p', 'r', '_', '_', '_']\n",
      "\n",
      "  +---+\n",
      "  |   |\n",
      "  O   |\n",
      " /|\\  |\n",
      " /    |\n",
      "      |\n",
      "=========\n",
      "\n",
      "['w', 'e', 'l', 'l', 's', 'p', 'r', '_', '_', '_']\n",
      "Lives left: 0\n",
      "You lose...\n",
      "\n",
      "  +---+\n",
      "  |   |\n",
      "  O   |\n",
      " /|\\  |\n",
      " / \\  |\n",
      "      |\n",
      "=========\n",
      "\n"
     ]
    }
   ],
   "source": [
    "is_game_over = False\n",
    "lives = 6\n",
    "\n",
    "while not is_game_over:\n",
    "    guess = input('Guess a letter: ').lower()\n",
    "\n",
    "    for position in range(word_length):\n",
    "        letter = chosen_word[position]\n",
    "        if letter == guess:\n",
    "            display[position] = letter\n",
    "        \n",
    "    print(display)\n",
    "\n",
    "    if guess not in chosen_word:\n",
    "        lives -= 1\n",
    "        print(f'Lives left: {lives}')\n",
    "        if lives == 0:\n",
    "            is_game_over = True\n",
    "            print('You lose...')\n",
    "\n",
    "    if '_' not in display:\n",
    "        is_game_over = True\n",
    "        print('You win.')\n",
    "\n",
    "    print(stages[lives])\n"
   ]
  },
  {
   "cell_type": "code",
   "execution_count": null,
   "metadata": {},
   "outputs": [],
   "source": []
  }
 ],
 "metadata": {
  "interpreter": {
   "hash": "92dbd1e90201186197247ca54f8577451dcafe04c2da1af268ec5bb7166fb365"
  },
  "kernelspec": {
   "display_name": "Python 3.10.0 ('minimal_ds')",
   "language": "python",
   "name": "python3"
  },
  "language_info": {
   "codemirror_mode": {
    "name": "ipython",
    "version": 3
   },
   "file_extension": ".py",
   "mimetype": "text/x-python",
   "name": "python",
   "nbconvert_exporter": "python",
   "pygments_lexer": "ipython3",
   "version": "3.10.0"
  },
  "orig_nbformat": 4
 },
 "nbformat": 4,
 "nbformat_minor": 2
}
