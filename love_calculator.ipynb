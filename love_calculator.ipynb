{
 "cells": [
  {
   "cell_type": "code",
   "execution_count": 1,
   "metadata": {},
   "outputs": [
    {
     "name": "stdout",
     "output_type": "stream",
     "text": [
      "Welcome to the Love Calculator!\n",
      "Your score is 45, you are alright together.\n"
     ]
    }
   ],
   "source": [
    "# 🚨 Don't change the code below 👇\n",
    "print(\"Welcome to the Love Calculator!\")\n",
    "name1 = input(\"What is your name? \\n\")\n",
    "name2 = input(\"What is their name? \\n\")\n",
    "# 🚨 Don't change the code above 👆\n",
    "\n",
    "#Write your code below this line 👇\n",
    "combined_names = name1 + name2\n",
    "lower_case_names = combined_names.lower()\n",
    "\n",
    "t = lower_case_names.count('t')\n",
    "r = lower_case_names.count('r')\n",
    "u = lower_case_names.count('u')\n",
    "e = lower_case_names.count('e')\n",
    "\n",
    "true_count = t + r + u + e\n",
    "\n",
    "l = lower_case_names.count('l')\n",
    "o = lower_case_names.count('o')\n",
    "v = lower_case_names.count('v')\n",
    "e = lower_case_names.count('e')\n",
    "\n",
    "love_count = l + o + v + e\n",
    "\n",
    "true_count = str(true_count)\n",
    "love_count = str(love_count)\n",
    "\n",
    "score = int(true_count + love_count)\n",
    "\n",
    "if score < 10 or score > 90:\n",
    "    print(f'Your score is {score}, you go together like coke and mentos.')\n",
    "elif score >= 40 and score <= 50:\n",
    "    print(f'Your score is {score}, you are alright together.')\n",
    "else:\n",
    "    print(f'Your score is {score}.')"
   ]
  },
  {
   "cell_type": "code",
   "execution_count": null,
   "metadata": {},
   "outputs": [],
   "source": []
  }
 ],
 "metadata": {
  "interpreter": {
   "hash": "92dbd1e90201186197247ca54f8577451dcafe04c2da1af268ec5bb7166fb365"
  },
  "kernelspec": {
   "display_name": "Python 3.10.0 ('minimal_ds')",
   "language": "python",
   "name": "python3"
  },
  "language_info": {
   "codemirror_mode": {
    "name": "ipython",
    "version": 3
   },
   "file_extension": ".py",
   "mimetype": "text/x-python",
   "name": "python",
   "nbconvert_exporter": "python",
   "pygments_lexer": "ipython3",
   "version": "3.10.0"
  },
  "orig_nbformat": 4
 },
 "nbformat": 4,
 "nbformat_minor": 2
}
