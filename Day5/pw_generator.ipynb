{
 "cells": [
  {
   "cell_type": "code",
   "execution_count": 46,
   "metadata": {},
   "outputs": [],
   "source": [
    "import random\n",
    "\n",
    "letters = ['a', 'b', 'c', 'd', 'e', 'f', 'g', 'h', 'i', 'j', 'k', 'l', 'm', 'n', 'o', 'p', 'q', 'r', 's', 't', 'u', 'v', 'w', 'x', 'y', 'z', 'A', 'B', 'C', 'D', 'E', 'F', 'G', 'H', 'I', 'J', 'K', 'L', 'M', 'N', 'O', 'P', 'Q', 'R', 'S', 'T', 'U', 'V', 'W', 'X', 'Y', 'Z']\n",
    "numbers = ['0', '1', '2', '3', '4', '5', '6', '7', '8', '9']\n",
    "symbols = ['!', '#', '$', '%', '&', '(', ')', '*', '+']\n",
    "\n",
    "# input('Welcome to the PyPassword Generator!')\n",
    "num_of_letters = int(input('How many letters would you like in your password?'))\n",
    "num_of_symbols = int(input('How many symbols would you like?'))\n",
    "num_of_numbers = int(input('How many numbers would you like?'))"
   ]
  },
  {
   "cell_type": "code",
   "execution_count": 38,
   "metadata": {},
   "outputs": [],
   "source": [
    "# Easy Solution\n",
    "easy_password = ''\n",
    "\n",
    "for char in range(1, num_of_letters + 1):\n",
    "    easy_password += random.choice(letters)\n",
    "\n",
    "for char in range(1, num_of_symbols + 1):\n",
    "    easy_password += random.choice(symbols)\n",
    "\n",
    "for char in range(1, num_of_numbers + 1):\n",
    "    easy_password += random.choice(numbers)"
   ]
  },
  {
   "cell_type": "code",
   "execution_count": 39,
   "metadata": {},
   "outputs": [
    {
     "data": {
      "text/plain": [
       "'IEQS#)34'"
      ]
     },
     "execution_count": 39,
     "metadata": {},
     "output_type": "execute_result"
    }
   ],
   "source": [
    "easy_password"
   ]
  },
  {
   "cell_type": "code",
   "execution_count": 59,
   "metadata": {},
   "outputs": [
    {
     "name": "stdout",
     "output_type": "stream",
     "text": [
      "['$', '2', 'G', 'q', '+', 'a', '5', 'S']\n"
     ]
    }
   ],
   "source": [
    "# Harder Solution\n",
    "hard_password = []\n",
    "\n",
    "for char in range(1, num_of_letters + 1):\n",
    "    hard_password.append(random.choice(letters))\n",
    "\n",
    "for char in range(1, num_of_symbols + 1):\n",
    "    hard_password.append(random.choice(symbols))\n",
    "\n",
    "for char in range(1, num_of_numbers + 1):\n",
    "    hard_password.append(random.choice(numbers))\n",
    "\n",
    "random.shuffle(hard_password)\n",
    "print(hard_password)"
   ]
  },
  {
   "cell_type": "code",
   "execution_count": 64,
   "metadata": {},
   "outputs": [
    {
     "name": "stdout",
     "output_type": "stream",
     "text": [
      "Your password is: $2Gq+a5S\n"
     ]
    }
   ],
   "source": [
    "password = ''\n",
    "\n",
    "for char in hard_password:\n",
    "    password += char\n",
    "\n",
    "print(f'Your password is: {password}')"
   ]
  },
  {
   "cell_type": "code",
   "execution_count": null,
   "metadata": {},
   "outputs": [],
   "source": []
  }
 ],
 "metadata": {
  "interpreter": {
   "hash": "31f2aee4e71d21fbe5cf8b01ff0e069b9275f58929596ceb00d14d90e3e16cd6"
  },
  "kernelspec": {
   "display_name": "Python 3.8.9 64-bit",
   "language": "python",
   "name": "python3"
  },
  "language_info": {
   "codemirror_mode": {
    "name": "ipython",
    "version": 3
   },
   "file_extension": ".py",
   "mimetype": "text/x-python",
   "name": "python",
   "nbconvert_exporter": "python",
   "pygments_lexer": "ipython3",
   "version": "3.10.0"
  },
  "orig_nbformat": 4
 },
 "nbformat": 4,
 "nbformat_minor": 2
}
