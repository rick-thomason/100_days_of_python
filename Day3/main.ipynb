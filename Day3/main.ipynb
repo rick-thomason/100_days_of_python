{
 "cells": [
  {
   "cell_type": "markdown",
   "metadata": {},
   "source": [
    "# Control Flow and Logical Operators"
   ]
  },
  {
   "cell_type": "markdown",
   "metadata": {},
   "source": [
    "### Nested If Statements"
   ]
  },
  {
   "cell_type": "code",
   "execution_count": 16,
   "metadata": {},
   "outputs": [
    {
     "name": "stdout",
     "output_type": "stream",
     "text": [
      "Height: 71 inches\n",
      "Age: 32\n"
     ]
    }
   ],
   "source": [
    "height_in_inches = int(input('What is your height?'))\n",
    "age = int(input('How old are you?'))\n",
    "print(f'Height: {height_in_inches} inches')\n",
    "print(f'Age: {age}')\n",
    "bill = 0"
   ]
  },
  {
   "cell_type": "code",
   "execution_count": 14,
   "metadata": {},
   "outputs": [
    {
     "name": "stdout",
     "output_type": "stream",
     "text": [
      "You are tall enough to ride this ride.\n",
      "You have to pay 12 dollars.\n"
     ]
    }
   ],
   "source": [
    "if height_in_inches >= 48:\n",
    "    print('You are tall enough to ride this ride.')\n",
    "    if age < 18:\n",
    "        print('You have to pay 7 dollars.')\n",
    "    else:\n",
    "        print('You have to pay 12 dollars.')\n",
    "else:\n",
    "    print('You are not tall enough to ride this ride.')"
   ]
  },
  {
   "cell_type": "markdown",
   "metadata": {},
   "source": [
    "## Multiple If Statements"
   ]
  },
  {
   "cell_type": "code",
   "execution_count": 27,
   "metadata": {},
   "outputs": [
    {
     "name": "stdout",
     "output_type": "stream",
     "text": [
      "You are 71 inches tall.\n",
      "You are 32 years old.\n",
      "You are tall enough to ride this ride.\n",
      "You have to pay $12 dollars.\n",
      "Your total bill is $15 after ride and purchasing photo.\n"
     ]
    }
   ],
   "source": [
    "height_in_inches = int(input('What is your height in inches?'))\n",
    "age = int(input('How old are you?'))\n",
    "print(f'You are {height_in_inches} inches tall.')\n",
    "print(f'You are {age} years old.')\n",
    "bill = 0\n",
    "\n",
    "if height_in_inches >= 48:\n",
    "    print('You are tall enough to ride this ride.')\n",
    "    if age < 18:\n",
    "        bill = 7\n",
    "        print('You have to pay $7 dollars.')\n",
    "    else:\n",
    "        print('You have to pay $12 dollars.')\n",
    "        bill = 12\n",
    "\n",
    "    wants_photo = input('Do you want a photo taken? Y or N. ')\n",
    "    if wants_photo == 'Y'.lower():\n",
    "        # Add 3 dollars to the bill\n",
    "        bill += 3\n",
    "        print(f'Your total bill is ${bill} after ride and purchasing photo.')\n",
    "    \n",
    "else:\n",
    "    print('You are not tall enough to ride this ride.')"
   ]
  },
  {
   "cell_type": "code",
   "execution_count": null,
   "metadata": {},
   "outputs": [],
   "source": []
  }
 ],
 "metadata": {
  "interpreter": {
   "hash": "92dbd1e90201186197247ca54f8577451dcafe04c2da1af268ec5bb7166fb365"
  },
  "kernelspec": {
   "display_name": "Python 3.10.0 ('minimal_ds')",
   "language": "python",
   "name": "python3"
  },
  "language_info": {
   "codemirror_mode": {
    "name": "ipython",
    "version": 3
   },
   "file_extension": ".py",
   "mimetype": "text/x-python",
   "name": "python",
   "nbconvert_exporter": "python",
   "pygments_lexer": "ipython3",
   "version": "3.10.0"
  },
  "orig_nbformat": 4
 },
 "nbformat": 4,
 "nbformat_minor": 2
}
