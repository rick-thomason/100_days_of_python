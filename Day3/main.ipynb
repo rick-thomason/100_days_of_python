{
 "cells": [
  {
   "cell_type": "markdown",
   "metadata": {},
   "source": [
    "# Control Flow and Logical Operators"
   ]
  },
  {
   "cell_type": "markdown",
   "metadata": {},
   "source": [
    "### Nested If Statements"
   ]
  },
  {
   "cell_type": "code",
   "execution_count": 13,
   "metadata": {},
   "outputs": [
    {
     "name": "stdout",
     "output_type": "stream",
     "text": [
      "Height: 71 inches\n",
      "Age: 32\n"
     ]
    }
   ],
   "source": [
    "height_in_inches = int(input('What is your height?'))\n",
    "age = int(input('How old are you?'))\n",
    "print(f'Height: {height_in_inches} inches')\n",
    "print(f'Age: {age}')"
   ]
  },
  {
   "cell_type": "code",
   "execution_count": 14,
   "metadata": {},
   "outputs": [
    {
     "name": "stdout",
     "output_type": "stream",
     "text": [
      "You are tall enough to ride this ride.\n",
      "You have to pay 12 dollars.\n"
     ]
    }
   ],
   "source": [
    "if height_in_inches >= 48:\n",
    "    print('You are tall enough to ride this ride.')\n",
    "    if age < 18:\n",
    "        print('You have to pay 7 dollars.')\n",
    "    else:\n",
    "        print('You have to pay 12 dollars.')\n",
    "else:\n",
    "    print('You are not tall enough to ride this ride.')"
   ]
  },
  {
   "cell_type": "code",
   "execution_count": null,
   "metadata": {},
   "outputs": [],
   "source": []
  }
 ],
 "metadata": {
  "interpreter": {
   "hash": "92dbd1e90201186197247ca54f8577451dcafe04c2da1af268ec5bb7166fb365"
  },
  "kernelspec": {
   "display_name": "Python 3.10.0 ('minimal_ds')",
   "language": "python",
   "name": "python3"
  },
  "language_info": {
   "codemirror_mode": {
    "name": "ipython",
    "version": 3
   },
   "file_extension": ".py",
   "mimetype": "text/x-python",
   "name": "python",
   "nbconvert_exporter": "python",
   "pygments_lexer": "ipython3",
   "version": "3.10.0"
  },
  "orig_nbformat": 4
 },
 "nbformat": 4,
 "nbformat_minor": 2
}
