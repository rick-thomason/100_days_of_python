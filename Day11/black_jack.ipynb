{
 "cells": [
  {
   "cell_type": "markdown",
   "metadata": {},
   "source": [
    "# Black Jack"
   ]
  },
  {
   "cell_type": "code",
   "execution_count": 65,
   "metadata": {},
   "outputs": [],
   "source": [
    "import random"
   ]
  },
  {
   "cell_type": "code",
   "execution_count": 227,
   "metadata": {},
   "outputs": [],
   "source": [
    "\n",
    "def deal_card():\n",
    "    cards = [11, 2, 3, 4, 5, 6, 7, 8, 9, 10, 10, 10, 10]\n",
    "    random_card = random.choice(cards)\n",
    "    return random_card\n",
    "\n",
    "def calculate_score(card_list):\n",
    "    if sum(card_list) == 21 and len(card_list) ==2:\n",
    "        return 0\n",
    "    \n",
    "    if 11 in card_list and sum(card_list) > 21:\n",
    "        card_list.remove(11)\n",
    "        card_list.append(1)\n",
    "       \n",
    "\n",
    "    return sum(card_list)\n",
    "\n",
    "def compare_scores(user_score, dealer_score):\n",
    "    if user_score == dealer_score:\n",
    "        return 'It is a Draw...'\n",
    "    elif dealer_score == 0:\n",
    "        return 'Dealer has Blackjack, You lose!'\n",
    "    elif user_score == 0:\n",
    "        return 'You got Blackjack, You win!!!!'\n",
    "    elif user_score > 21:\n",
    "        return 'You BUST!!!'\n",
    "    elif dealer_score > 21:\n",
    "        return 'Dealer BUST, You win!!!'\n",
    "    elif user_score > dealer_score:\n",
    "        return 'You beat the dealer!!!'\n",
    "    else:\n",
    "        return 'You suck you lose...'\n"
   ]
  },
  {
   "cell_type": "code",
   "execution_count": 234,
   "metadata": {},
   "outputs": [
    {
     "name": "stdout",
     "output_type": "stream",
     "text": [
      "Your cards are: [2, 4]\n",
      "The dealer has a: [6, 11]\n"
     ]
    }
   ],
   "source": [
    "user_cards = []\n",
    "dealer_cards = []\n",
    "\n",
    "for _ in range(2):\n",
    "    user_cards.append(deal_card())\n",
    "    dealer_cards.append(deal_card())\n",
    "\n",
    "print(f'Your cards are: {user_cards}')\n",
    "print(f'The dealer has a: {dealer_cards}')"
   ]
  },
  {
   "cell_type": "code",
   "execution_count": 235,
   "metadata": {},
   "outputs": [
    {
     "name": "stdout",
     "output_type": "stream",
     "text": [
      "Your score is: 6\n",
      "Your score is: 15\n",
      "Your score is: 25\n",
      "Dealer score: 17\n"
     ]
    },
    {
     "data": {
      "text/plain": [
       "'You BUST!!!'"
      ]
     },
     "execution_count": 235,
     "metadata": {},
     "output_type": "execute_result"
    }
   ],
   "source": [
    "game_over = False\n",
    "while not game_over:\n",
    "\n",
    "     user_score= calculate_score(user_cards)\n",
    "     dealer_score = calculate_score(dealer_cards)\n",
    "\n",
    "     print(f'Your score is: {user_score}')\n",
    "\n",
    "     if user_score == 0 or dealer_score == 0 or user_score > 21:\n",
    "               game_over = True\n",
    "     else:\n",
    "          draw_card = input('Would you like to draw another card? \"yes\" or \"no\".').lower()\n",
    "          if draw_card == 'yes':\n",
    "               user_cards.append(deal_card())\n",
    "          else:\n",
    "               game_over = True\n",
    "    \n",
    "while dealer_score != 0 and dealer_score < 17:\n",
    "    dealer_cards.append(deal_card())\n",
    "    dealer_score = calculate_score(dealer_cards)\n",
    "    print(f'Dealer score: {dealer_score}')\n",
    "print(f'Dealer score: {dealer_score}')\n",
    "\n",
    "compare_scores(user_score, dealer_score)\n"
   ]
  },
  {
   "cell_type": "code",
   "execution_count": null,
   "metadata": {},
   "outputs": [],
   "source": []
  }
 ],
 "metadata": {
  "interpreter": {
   "hash": "92dbd1e90201186197247ca54f8577451dcafe04c2da1af268ec5bb7166fb365"
  },
  "kernelspec": {
   "display_name": "Python 3.10.0 ('minimal_ds')",
   "language": "python",
   "name": "python3"
  },
  "language_info": {
   "codemirror_mode": {
    "name": "ipython",
    "version": 3
   },
   "file_extension": ".py",
   "mimetype": "text/x-python",
   "name": "python",
   "nbconvert_exporter": "python",
   "pygments_lexer": "ipython3",
   "version": "3.10.0"
  },
  "orig_nbformat": 4
 },
 "nbformat": 4,
 "nbformat_minor": 2
}
