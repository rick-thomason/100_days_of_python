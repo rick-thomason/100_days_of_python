{
 "cells": [
  {
   "cell_type": "markdown",
   "metadata": {},
   "source": [
    "# Dictionaries"
   ]
  },
  {
   "cell_type": "code",
   "execution_count": 4,
   "metadata": {},
   "outputs": [
    {
     "data": {
      "text/plain": [
       "'An error in a program that prevents the program from running as expected.'"
      ]
     },
     "execution_count": 4,
     "metadata": {},
     "output_type": "execute_result"
    }
   ],
   "source": [
    "programming_dictionary = {\n",
    "'Bug': 'An error in a program that prevents the program from running as expected.', \n",
    "'Function': 'A piece of code that you can easily call over and over again.',\n",
    "'Loop': 'The action of doing something over and over again.'\n",
    "}\n",
    "\n",
    "programming_dictionary['Bug']"
   ]
  },
  {
   "cell_type": "code",
   "execution_count": 8,
   "metadata": {},
   "outputs": [
    {
     "data": {
      "text/plain": [
       "{'Bug': 'An error in a program that prevents the program from running as expected.',\n",
       " 'Function': 'A piece of code that you can easily call over and over again.',\n",
       " 'Loop': 'The action of doing something over and over again.',\n",
       " 'Boolean': 'A Data Type that has either a value of True or False'}"
      ]
     },
     "execution_count": 8,
     "metadata": {},
     "output_type": "execute_result"
    }
   ],
   "source": [
    "# Adding new items to dictionaries\n",
    "programming_dictionary['Boolean'] = 'A Data Type that has either a value of True or False'\n",
    "\n",
    "programming_dictionary"
   ]
  },
  {
   "cell_type": "code",
   "execution_count": null,
   "metadata": {},
   "outputs": [],
   "source": []
  },
  {
   "cell_type": "code",
   "execution_count": 15,
   "metadata": {},
   "outputs": [
    {
     "name": "stdout",
     "output_type": "stream",
     "text": [
      "Bug\n",
      "Function\n",
      "Loop\n",
      "Boolean\n"
     ]
    }
   ],
   "source": [
    "# Looping through dictionaries only gives the keys\n",
    "for key in programming_dictionary:\n",
    "    print(key)"
   ]
  },
  {
   "cell_type": "code",
   "execution_count": 22,
   "metadata": {},
   "outputs": [
    {
     "name": "stdout",
     "output_type": "stream",
     "text": [
      "Bug: An error in a program that prevents the program from running as expected.\n",
      "Function: A piece of code that you can easily call over and over again.\n",
      "Loop: The action of doing something over and over again.\n",
      "Boolean: A Data Type that has either a value of True or False\n"
     ]
    }
   ],
   "source": [
    "for key in programming_dictionary:\n",
    "    print(f'{key}: {programming_dictionary[key]}')"
   ]
  },
  {
   "cell_type": "code",
   "execution_count": 17,
   "metadata": {},
   "outputs": [
    {
     "name": "stdout",
     "output_type": "stream",
     "text": [
      "('Bug', 'An error in a program that prevents the program from running as expected.')\n",
      "('Function', 'A piece of code that you can easily call over and over again.')\n",
      "('Loop', 'The action of doing something over and over again.')\n",
      "('Boolean', 'A Data Type that has either a value of True or False')\n"
     ]
    }
   ],
   "source": [
    "# Looping through dictionary and getting key and value\n",
    "for item in programming_dictionary.items():\n",
    "    print(item)"
   ]
  },
  {
   "cell_type": "code",
   "execution_count": 25,
   "metadata": {},
   "outputs": [
    {
     "data": {
      "text/plain": [
       "{'Harry': 'Exceeds Expectations',\n",
       " 'Ron': 'Acceptable',\n",
       " 'Hermione': 'Outstanding',\n",
       " 'Draco': 'Acceptable',\n",
       " 'Neville': 'Fail'}"
      ]
     },
     "execution_count": 25,
     "metadata": {},
     "output_type": "execute_result"
    }
   ],
   "source": [
    "student_scores = {\n",
    "  'Harry': 81,\n",
    "  'Ron': 78,\n",
    "  'Hermione': 99, \n",
    "  'Draco': 74,\n",
    "  'Neville': 62,\n",
    "}\n",
    "\n",
    "#TODO-1: Create an empty dictionary called student_grades.\n",
    "student_grades = {}\n",
    "\n",
    "#TODO-2: Write your code below to add the grades to student_grades.👇\n",
    "for student in student_scores:\n",
    "    score = student_scores[student]\n",
    "    if score >90:\n",
    "        student_grades[student] = 'Outstanding'\n",
    "    elif score > 80:\n",
    "        student_grades[student] = 'Exceeds Expectations'\n",
    "    elif score > 70:\n",
    "        student_grades[student] = 'Acceptable'\n",
    "    else:\n",
    "        student_grades[student] = 'Fail'\n",
    "    \n",
    "student_grades"
   ]
  },
  {
   "cell_type": "markdown",
   "metadata": {},
   "source": [
    "### Nesting Lists and Dictionaries"
   ]
  },
  {
   "cell_type": "code",
   "execution_count": 33,
   "metadata": {},
   "outputs": [],
   "source": [
    "addresses = {\n",
    "    'address1': {\n",
    "        'street': '958A Edwards Circle',\n",
    "        'city': 'Jacksonville',\n",
    "        'state': 'FL',\n",
    "        'zip': '32227'\n",
    "    },\n",
    "    'address2': {\n",
    "        'street': '11 Meryl Court',\n",
    "        'city': 'Groton',\n",
    "        'state': 'CT',\n",
    "        'zip': '06340'\n",
    "    }\n",
    "}"
   ]
  },
  {
   "cell_type": "code",
   "execution_count": 31,
   "metadata": {},
   "outputs": [
    {
     "data": {
      "text/plain": [
       "32227"
      ]
     },
     "execution_count": 31,
     "metadata": {},
     "output_type": "execute_result"
    }
   ],
   "source": [
    "addresses['address1']['zip']"
   ]
  },
  {
   "cell_type": "code",
   "execution_count": 34,
   "metadata": {},
   "outputs": [
    {
     "data": {
      "text/plain": [
       "'CT'"
      ]
     },
     "execution_count": 34,
     "metadata": {},
     "output_type": "execute_result"
    }
   ],
   "source": [
    "addresses['address2']['state']"
   ]
  },
  {
   "cell_type": "code",
   "execution_count": 42,
   "metadata": {},
   "outputs": [],
   "source": [
    "users = [\n",
    "    {\n",
    "        'first_name': 'rick',\n",
    "        'last_name': 'thomason',\n",
    "        'age': 32,\n",
    "        'address': {\n",
    "            'street': '958A Edwards Circle',\n",
    "            'city': 'Jax',\n",
    "            'state': 'Fl',\n",
    "            'zip': '32227'\n",
    "        },\n",
    "        'hobbies': ['eating', 'coding', 'sleeping']\n",
    "    },\n",
    "    {\n",
    "        'first_name': 'roland',\n",
    "        'last_name': 'thomason',\n",
    "        'age': 5,\n",
    "        'address': {\n",
    "            'street': '958A Edwards Circle',\n",
    "            'city': 'Jax',\n",
    "            'state': 'Fl',\n",
    "            'zip': '32227'\n",
    "        },\n",
    "        'hobbies': ['playing', 'using the tablet', 'eating snacks']\n",
    "    }\n",
    "]"
   ]
  },
  {
   "cell_type": "code",
   "execution_count": 43,
   "metadata": {},
   "outputs": [
    {
     "data": {
      "text/plain": [
       "['playing', 'using the tablet', 'eating snacks']"
      ]
     },
     "execution_count": 43,
     "metadata": {},
     "output_type": "execute_result"
    }
   ],
   "source": [
    "users[1]['hobbies']"
   ]
  },
  {
   "cell_type": "code",
   "execution_count": 48,
   "metadata": {},
   "outputs": [
    {
     "data": {
      "text/plain": [
       "'Rick'"
      ]
     },
     "execution_count": 48,
     "metadata": {},
     "output_type": "execute_result"
    }
   ],
   "source": [
    "users[0]['first_name'].title()"
   ]
  },
  {
   "cell_type": "code",
   "execution_count": null,
   "metadata": {},
   "outputs": [],
   "source": []
  }
 ],
 "metadata": {
  "interpreter": {
   "hash": "92dbd1e90201186197247ca54f8577451dcafe04c2da1af268ec5bb7166fb365"
  },
  "kernelspec": {
   "display_name": "Python 3.10.0 ('minimal_ds')",
   "language": "python",
   "name": "python3"
  },
  "language_info": {
   "codemirror_mode": {
    "name": "ipython",
    "version": 3
   },
   "file_extension": ".py",
   "mimetype": "text/x-python",
   "name": "python",
   "nbconvert_exporter": "python",
   "pygments_lexer": "ipython3",
   "version": "3.10.0"
  },
  "orig_nbformat": 4
 },
 "nbformat": 4,
 "nbformat_minor": 2
}
