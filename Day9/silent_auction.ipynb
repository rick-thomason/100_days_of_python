{
 "cells": [
  {
   "cell_type": "code",
   "execution_count": 19,
   "metadata": {},
   "outputs": [
    {
     "name": "stdout",
     "output_type": "stream",
     "text": [
      "{'Rick': 120, 'Monet': 55, 'Roland': 88, 'Maddox': 23}\n",
      "Rick has the highest bid of $120.\n"
     ]
    }
   ],
   "source": [
    "bids_dict = {}\n",
    "\n",
    "is_ongoing = True\n",
    "while is_ongoing:\n",
    "    name = input('What is your name?').title()\n",
    "    bid_amount = int(input('How much would you like to bid? $'))\n",
    "    is_more_bidders = input('Is there more people bidding? Type \"yes\" to continue bid, or \"no\" to end bid.').lower()\n",
    "\n",
    "    bids_dict[name] = bid_amount\n",
    "\n",
    "    if is_more_bidders == 'no':\n",
    "        is_ongoing = False\n",
    "\n",
    "def find_highest_bidder(bidding_record):\n",
    "    highest_bid = 0\n",
    "    winner = ''\n",
    "    for bidder in bidding_record:\n",
    "        bid_amount = bidding_record[bidder]\n",
    "        if bid_amount > highest_bid:\n",
    "            highest_bid = bid_amount\n",
    "            winner = bidder\n",
    "    print(f'{winner} has the highest bid of ${highest_bid}.')\n",
    "\n",
    "print(bids_dict)\n",
    "find_highest_bidder(bids_dict)\n"
   ]
  },
  {
   "cell_type": "code",
   "execution_count": null,
   "metadata": {},
   "outputs": [],
   "source": []
  }
 ],
 "metadata": {
  "interpreter": {
   "hash": "92dbd1e90201186197247ca54f8577451dcafe04c2da1af268ec5bb7166fb365"
  },
  "kernelspec": {
   "display_name": "Python 3.10.0 ('minimal_ds')",
   "language": "python",
   "name": "python3"
  },
  "language_info": {
   "codemirror_mode": {
    "name": "ipython",
    "version": 3
   },
   "file_extension": ".py",
   "mimetype": "text/x-python",
   "name": "python",
   "nbconvert_exporter": "python",
   "pygments_lexer": "ipython3",
   "version": "3.10.0"
  },
  "orig_nbformat": 4
 },
 "nbformat": 4,
 "nbformat_minor": 2
}
